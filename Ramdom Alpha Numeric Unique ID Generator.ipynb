{
 "cells": [
  {
   "cell_type": "code",
   "execution_count": null,
   "metadata": {
    "collapsed": true
   },
   "outputs": [],
   "source": [
    "#The following code generates 20 million unique alphanaumeric IDs and writes these numbers to a specified output file.\n",
    "import random\n",
    "import string\n",
    "\n",
    "f = open(\"Test_File.txt\",\"w\")\n",
    "l = []\n",
    "y=20000100\n",
    "reqd_numbers=20000000\n",
    "\n",
    "# Generate a list of random numbers\n",
    "for i in range(0,y):\n",
    "    random_string = ''.join([random.choice(string.ascii_letters+string.digits) for n in range(8)])\n",
    "    l.append(random_string)\n",
    "n=len(l)\n",
    "\n",
    "# Convert the list to a set to remove duplicates\n",
    "l=set(l)\n",
    "\n",
    "# Convert set back to list for slicing\n",
    "l=list(l)\n",
    "\n",
    "# Slice the required number of random numbers\n",
    "l=l[0:reqd_numbers]\n",
    "\n",
    "# Print the list of random numbers into a file\n",
    "for txt2 in l:\n",
    "    random_string = txt2 + '\\n'\n",
    "    f.write(random_string)\n",
    "f.close()"
   ]
  }
 ],
 "metadata": {
  "kernelspec": {
   "display_name": "Python 3",
   "language": "python",
   "name": "python3"
  },
  "language_info": {
   "codemirror_mode": {
    "name": "ipython",
    "version": 3
   },
   "file_extension": ".py",
   "mimetype": "text/x-python",
   "name": "python",
   "nbconvert_exporter": "python",
   "pygments_lexer": "ipython3",
   "version": "3.5.2"
  }
 },
 "nbformat": 4,
 "nbformat_minor": 2
}
